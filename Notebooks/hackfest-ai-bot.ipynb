{
 "cells": [
  {
   "cell_type": "code",
   "execution_count": 209,
   "metadata": {},
   "outputs": [],
   "source": [
    "import base64\n",
    "import os\n",
    "from google import genai\n",
    "from google.genai import types\n",
    "\n",
    "\n",
    "def generate(txt):\n",
    "    client = genai.Client(\n",
    "        api_key=secret_value_0,\n",
    "    )\n",
    "\n",
    "    model = \"gemini-2.0-flash-lite\"\n",
    "    contents = [\n",
    "        types.Content(\n",
    "            role=\"user\",\n",
    "            parts=[\n",
    "                types.Part.from_text(text=txt),\n",
    "            ],\n",
    "        ),\n",
    "    ]\n",
    "    generate_content_config = types.GenerateContentConfig(\n",
    "        response_mime_type=\"text/plain\",\n",
    "        system_instruction=[\n",
    "            types.Part.from_text(text=\"\"\"System Instruction for Stock News Sentiment Analysis\n",
    "\n",
    "Input:\n",
    "\n",
    "The system will receive text-based stock news articles or snippets.\n",
    "\n",
    "Task Overview:\n",
    "\n",
    "Perform a sentiment analysis on the input news to determine whether the sentiment is positive, negative, or neutral.\n",
    "\n",
    "Generate a detailed description that explains how the news could impact the stock's performance. This includes potential effects on investor sentiment, market reaction, and stock price movements based on the news content.\n",
    "\n",
    "Processing Steps:\n",
    "\n",
    "Sentiment Analysis:\n",
    "\n",
    "Use natural language processing (NLP) techniques to evaluate the sentiment conveyed in the news article.\n",
    "\n",
    "Classify the sentiment into categories such as \\\"Positive,\\\" \\\"Negative,\\\" or \\\"Neutral.\\\"\n",
    "\n",
    "Impact Description:\n",
    "\n",
    "Analyze key phrases, tone, and context within the news to infer potential implications for the stock.\n",
    "\n",
    "Generate a summary that explains whether the news is likely to drive the stock price up, down, or remain relatively stable. Include reasoning, such as impacts on investor confidence, potential changes in market perception, or implications for company performance.\n",
    "\n",
    "Output Format:\n",
    "\n",
    "The final output should be structured as follows:\n",
    "\n",
    "Sentiment: [Positive / Negative / Neutral]\n",
    "\n",
    "Description: A concise yet detailed narrative explaining how the news is expected to affect the stock. This should include context about market sentiment, possible investor reactions, and any relevant financial implications.\n",
    "\n",
    "Example Output:\n",
    "\n",
    "Sentiment: Positive\n",
    "\n",
    "Description: \\\"The news highlights strong quarterly earnings and an increase in market share, suggesting that investors will have renewed confidence in the company's growth prospects. This positive sentiment is expected to drive the stock price higher in the short term, as market participants react to the improved performance indicators.\\\"\"\"\"),\n",
    "        ],\n",
    "    )\n",
    "\n",
    "    for chunk in client.models.generate_content_stream(\n",
    "        model=model,\n",
    "        contents=contents,\n",
    "        config=generate_content_config,\n",
    "    ):\n",
    "        print(chunk.text, end=\"\")\n"
   ]
  },
  {
   "cell_type": "code",
   "execution_count": null,
   "metadata": {},
   "outputs": [],
   "source": []
  }
 ],
 "metadata": {
  "kaggle": {
   "accelerator": "gpu",
   "dataSources": [
    {
     "datasetId": 7042982,
     "sourceId": 11267194,
     "sourceType": "datasetVersion"
    },
    {
     "datasetId": 7043006,
     "sourceId": 11267224,
     "sourceType": "datasetVersion"
    }
   ],
   "dockerImageVersionId": 30919,
   "isGpuEnabled": true,
   "isInternetEnabled": true,
   "language": "python",
   "sourceType": "notebook"
  },
  "kernelspec": {
   "display_name": "Python 3 (ipykernel)",
   "language": "python",
   "name": "python3"
  },
  "language_info": {
   "codemirror_mode": {
    "name": "ipython",
    "version": 3
   },
   "file_extension": ".py",
   "mimetype": "text/x-python",
   "name": "python",
   "nbconvert_exporter": "python",
   "pygments_lexer": "ipython3",
   "version": "3.12.4"
  }
 },
 "nbformat": 4,
 "nbformat_minor": 4
}
